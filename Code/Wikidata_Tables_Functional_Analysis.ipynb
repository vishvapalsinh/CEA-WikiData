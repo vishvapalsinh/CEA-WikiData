{
 "cells": [
  {
   "cell_type": "markdown",
   "metadata": {},
   "source": [
    "# Wikidata Tables FDA"
   ]
  },
  {
   "cell_type": "markdown",
   "metadata": {},
   "source": [
    "### Import dependencies"
   ]
  },
  {
   "cell_type": "code",
   "execution_count": 368,
   "metadata": {},
   "outputs": [],
   "source": [
    "import pandas as pd\n",
    "import gzip\n",
    "import json\n",
    "import matplotlib.pyplot as plt\n",
    "import os\n",
    "import seaborn as sns\n",
    "import langid"
   ]
  },
  {
   "cell_type": "markdown",
   "metadata": {},
   "source": [
    "### Read Tables and store them in a dictionary {\"Table_name\": table_df}"
   ]
  },
  {
   "cell_type": "code",
   "execution_count": 369,
   "metadata": {},
   "outputs": [],
   "source": [
    "# Read all tables and store them in dfs list\n",
    "dfs = {}\n",
    "tables_path = \"DataSets/Valid/tables/\"\n",
    "files = os.listdir(tables_path)\n",
    "for file in files:\n",
    "    df = pd.read_csv(tables_path + file)\n",
    "    dfs[file] = df"
   ]
  },
  {
   "cell_type": "code",
   "execution_count": 370,
   "metadata": {},
   "outputs": [
    {
     "data": {
      "text/plain": [
       "dict_keys(['03ENJ6XM.csv', '08IZY6G9.csv', '0CZW7M0F.csv', '0DYQDSCY.csv', '0ER7T81U.csv', '0JGLUKC7.csv', '0JLTIHOL.csv', '0LBWW5L4.csv', '0N0NEYH9.csv', '0N5SQTLA.csv', '0OE5OCRQ.csv', '0WE6LMVO.csv', '0WPFA2SX.csv', '0WR8HB5F.csv', '10BWA0TL.csv', '10NIEV07.csv', '15MW7OIW.csv', '16WN39MK.csv', '17ZWOR3H.csv', '1FC2QYZ7.csv', '1KXJTLWQ.csv', '1MU06NLK.csv', '1NLZ9DZM.csv', '1P13VPP7.csv', '1Q9AQVZ4.csv', '1RLHV3VU.csv', '1S6DNZQZ.csv', '1V4KDGGZ.csv', '1W08NBUM.csv', '1XE9BS7D.csv', '1Z7TZO5Y.csv', '1ZBSGT5O.csv', '22RW4XSQ.csv', '28LTVSGN.csv', '28NX4BKN.csv', '298K62MT.csv', '29PJJKO1.csv', '2AX6EPDA.csv', '2CRZ98JZ.csv', '2D218JBS.csv', '2F8S19XX.csv', '2HLB6GPC.csv', '2JE2A69L.csv', '2KSWHXRR.csv', '2SAD93QZ.csv', '2SLP036H.csv', '2VVLNDA8.csv', '2XTQDLHR.csv', '37O08NT0.csv', '39DKHTFY.csv', '3EXEASJX.csv', '3F3A8IY2.csv', '3LRK5GZX.csv', '3NS7HOL5.csv', '3PP6R2LE.csv', '3Q8MYFHL.csv', '3S53OZSF.csv', '3X518GM9.csv', '3YQSKSKG.csv', '43C8NJEG.csv', '446GOT7F.csv', '44WXF9VM.csv', '48MXHK0Q.csv', '491H44F5.csv', '4FHF16G2.csv', '4HBM3VWD.csv', '4N1WS49F.csv', '4OFNP890.csv', '4OH908JW.csv', '4TKPDEVH.csv', '4ZSVT7WB.csv', '4ZVYC7IO.csv', '54INPBKD.csv', '54ZDXWQJ.csv', '5AIDV3GV.csv', '5ARFKJBD.csv', '5BBSZ3DP.csv', '5FQG9W2C.csv', '5HWE1O04.csv', '5MRPQDGZ.csv', '5PLSHCFK.csv', '5WYXNJYF.csv', '5XPF2O4G.csv', '5YIWU8K8.csv', '61WOFTX6.csv', '65VIPZJW.csv', '6948Q4IG.csv', '6DF72Y56.csv', '6G957XWT.csv', '6H4X23IR.csv', '6KJ5X8V6.csv', '6RTGWWDZ.csv', '6U27YPYQ.csv', '6W4T0PHG.csv', '6WQ0WPPJ.csv', '6XK7QOO7.csv', '6ZC8CBT4.csv', '72GRNXHZ.csv', '74EWSF9F.csv', '77ORCV06.csv', '7E95YXCI.csv', '7H4WB3MC.csv', '7IIHLSVO.csv', '7IVPG1D4.csv', '7JH2LJJO.csv', '7L2GF73Z.csv', '7L3MPSJV.csv', '7OYIKQX1.csv', '7RGNNRM8.csv', '7S6G8DCY.csv', '7T1GGN8Y.csv', '7UWKK70Q.csv', '7Z59WW7T.csv', '80GKDTZA.csv', '81CYA12T.csv', '81HTFO0W.csv', '839DELW3.csv', '85EJHM3S.csv', '8957GCS9.csv', '8CMLNIWC.csv', '8ENL8V6N.csv', '8GEH7ZRY.csv', '8HCW66SV.csv', '8I2R4Y25.csv', '8RA0YH6B.csv', '8SF4PGAN.csv', '8TQM6CS0.csv', '8UHQ8NMW.csv', '8ZIB8A5D.csv', '9015OF17.csv', '904Y3ZUQ.csv', '9155JW8C.csv', '92I4Z1QN.csv', '9321F058.csv', '962JH6WA.csv', '9A0QQWD0.csv', '9A1EFUVW.csv', '9BGB7SWG.csv', '9BNGDWFI.csv', '9ETOKU95.csv', '9M04ISUI.csv', '9MTXTSCI.csv', '9TIHF9B6.csv', '9TZLWYCL.csv', '9UQIKBT3.csv', '9ZKAJHTS.csv', 'A3T8J4JN.csv', 'A4RTCNH4.csv', 'A5NBGTVP.csv', 'A68WEUOE.csv', 'A6CTD3GV.csv', 'AMHYZTM9.csv', 'AMTEIF56.csv', 'ANW9BUYI.csv', 'APCNE261.csv', 'ATPHR1DK.csv', 'AUJV2CV3.csv', 'AUYQUA9A.csv', 'AW4BZJGK.csv', 'AXRCO4PA.csv', 'B05RYX3W.csv', 'B07H2S00.csv', 'B72Q14SI.csv', 'B7CMZH09.csv', 'BAJ5LMX3.csv', 'BDWQF2CN.csv', 'BGMLF9DR.csv', 'BNVC2RFR.csv', 'BOZ91V5W.csv', 'BQC7DZZR.csv', 'BSP2N0ZS.csv', 'C2JOFRNE.csv', 'C3SOO0DD.csv', 'C6M6STTW.csv', 'C8RTQNU5.csv', 'CAQ97NU8.csv', 'CEO4JAFH.csv', 'CGJ2J2Z7.csv', 'CHIL5EXL.csv', 'CPLC7VA2.csv', 'CPOKBQDE.csv', 'CUB1T1SE.csv', 'CZAKIUMO.csv', 'D2KP1VW5.csv', 'D58GW2X4.csv', 'DBWV925M.csv', 'DFSKIYXV.csv', 'DGHR5ZHM.csv', 'DHAYGA5Z.csv', 'DI8HJ3RS.csv', 'DJIVD6TL.csv', 'DLGFQQT7.csv', 'DOK169HR.csv', 'DOPZR1AV.csv', 'DOQV03WN.csv', 'DX5AS6T4.csv', 'DX61IAVC.csv', 'DXW1TVVD.csv', 'DYEE1FJP.csv', 'E09Q6C5J.csv', 'E09TTM0S.csv', 'E4I1HUIV.csv', 'E6U5C7Q9.csv', 'E9S2AXFZ.csv', 'E9Y8BTIG.csv', 'EB6IPBQ8.csv', 'EBY2M2ZM.csv', 'ECHAM69R.csv', 'ECTUBJYE.csv', 'EEQ0K4CX.csv', 'EJG2P3L4.csv', 'EJGKPNHP.csv', 'EJSGTM14.csv', 'EL0800WW.csv', 'EPSFXFTE.csv', 'EQ3NPLBF.csv', 'ETVQ8X6O.csv', 'EYSEG1DW.csv', 'F6XAG28O.csv', 'F9PDY3NT.csv', 'FCF2NZA6.csv', 'FDDRMIJW.csv', 'FEFM0QZO.csv', 'FJJHB85J.csv', 'FWTZZJJ0.csv', 'FXMVMSWD.csv', 'FYE84TM8.csv', 'FZ1TFIZH.csv', 'FZAS3QBH.csv', 'G826T3H0.csv', 'G96COWDQ.csv', 'GAY4RNCD.csv', 'GC9TJRGR.csv', 'GJDSU7RN.csv', 'GKD3ETCU.csv', 'GM2MDEJG.csv', 'GMMIPL1X.csv', 'GMPG5U6Q.csv', 'GPENFXWP.csv', 'GX3ZN4A3.csv', 'GXY8WPY5.csv', 'H0JV5J2R.csv', 'H2CO4YDK.csv', 'H2UUQL69.csv', 'H45KARXP.csv', 'H5A66SZ7.csv', 'H5XHPI0F.csv', 'H891V9L6.csv', 'HA2UB096.csv', 'HL53SG54.csv', 'HMVJ3GQE.csv', 'HNEFY0WJ.csv', 'I06QXLMR.csv', 'I4C27SYO.csv', 'I4L0M2MV.csv', 'I5QUEVR8.csv', 'I6SHSS2W.csv', 'I9GL2O9A.csv', 'I9KX15DX.csv', 'IB74N7B3.csv', 'IIK4XMPE.csv', 'IN3NQZ9O.csv', 'IQD4QG2M.csv', 'ISWA7D13.csv', 'IUPOCN5C.csv', 'IUUG1F7D.csv', 'IX2KNK5E.csv', 'J2JPNYWQ.csv', 'J72PLOMB.csv', 'J73EJIMZ.csv', 'J9I9G055.csv', 'JD0PEAP8.csv', 'JFS0L9UO.csv', 'JG29EIGN.csv', 'JKS5KAJR.csv', 'JLGMC2GZ.csv', 'JOKTLOQL.csv', 'JOPG8K01.csv', 'JQ42YIYZ.csv', 'JTL08N24.csv', 'JU42PL33.csv', 'JVJI5DXN.csv', 'JVLBTWRN.csv', 'K0GLR5JP.csv', 'K30ENNC8.csv', 'K46DPYIB.csv', 'K4A0E0QL.csv', 'K59PAB3W.csv', 'KCU5BNBL.csv', 'KJBUUEBJ.csv', 'KK0ID5TS.csv', 'KLD75FBA.csv', 'KMPOKVY1.csv', 'KOWHOL21.csv', 'KPFFDB6X.csv', 'KTOJ2CH9.csv', 'KVDZK26Z.csv', 'L1Q78UMR.csv', 'L97DPSVD.csv', 'LKUSI4AC.csv', 'LLNNJKBL.csv', 'LMOJJ5LT.csv', 'LUSMCQP7.csv', 'M82KAGLH.csv', 'MBGIUSUY.csv', 'MCYL241A.csv', 'MDLMJD0W.csv', 'MDT49NA1.csv', 'MFTU1853.csv', 'MIAQQX7T.csv', 'MMY4PX1A.csv', 'MNBDFOK9.csv', 'MRQQ6DAY.csv', 'N59ZOEEM.csv', 'N779E772.csv', 'N86193YU.csv', 'NA5XOTEC.csv', 'NBR61LS1.csv', 'NC182RFQ.csv', 'ND8YJG7R.csv', 'NGT7C6EO.csv', 'NGWGFKDP.csv', 'NH9DTQTT.csv', 'NLNHHO6C.csv', 'NPEM3U7S.csv', 'NWSX5J2O.csv', 'NWZUPFMR.csv', 'NYF7RD9C.csv', 'NYGNP7RK.csv', 'O4EZMN2A.csv', 'O65AQ2CP.csv', 'O7EV0JL2.csv', 'O7Q74WJK.csv', 'OAD64AX3.csv', 'OCIC690H.csv', 'OEJ65FJR.csv', 'OI5WL9NL.csv', 'OIK1GY47.csv', 'OJHKRXI7.csv', 'OL0GBCAH.csv', 'ONX98YWT.csv', 'OOZGFTPC.csv', 'OT39F277.csv', 'OU76FU99.csv', 'OYFA7N5G.csv', 'OYY5QFUQ.csv', 'P0V3VJRK.csv', 'P6XHF44S.csv', 'P9XT0D3W.csv', 'PBWV7IYP.csv', 'PFU2O7B0.csv', 'PHLND4CO.csv', 'PHMCQD1C.csv', 'PIJGEG7D.csv', 'PKM9UZ3V.csv', 'PU1AIRA5.csv', 'PVDZ7QLP.csv', 'Q54FVP7H.csv', 'QATMMRDW.csv', 'QBO6LMOZ.csv', 'QCQX1JPG.csv', 'QH5IUOVU.csv', 'QHNJPWT8.csv', 'QHZOX1IK.csv', 'QK5VP7SB.csv', 'QN3CDMMP.csv', 'QND1W2HI.csv', 'QNEWRIPI.csv', 'QRL8IVBH.csv', 'QTWJDF9A.csv', 'QUUOFFR0.csv', 'QYLNMSPA.csv', 'QZ2RQRCD.csv', 'R26584X5.csv', 'R7DP17P2.csv', 'R7HQ3B55.csv', 'R9KK199W.csv', 'R9OFLACE.csv', 'R9VI0ZU0.csv', 'RA68EQL6.csv', 'RDIFGKUW.csv', 'RESSHCFK.csv', 'RMARQZFB.csv', 'RNUTTGR6.csv', 'RO0K6ISA.csv', 'RQT6VSWL.csv', 'RRR83TMS.csv', 'RSTK2G5T.csv', 'RYBXAGU6.csv', 'S0QLRT8Z.csv', 'S445164I.csv', 'S5XLNQ57.csv', 'S9BMP4TY.csv', 'S9M0XB1T.csv', 'SGHFGF16.csv', 'SHDTWW9R.csv', 'SIX64NZA.csv', 'SK380FJC.csv', 'SLTJQ2PO.csv', 'SM1MMG5N.csv', 'SMAOJURT.csv', 'SMD4H2MW.csv', 'SN7TP22R.csv', 'SPIZOSW1.csv', 'SR5UQHNJ.csv', 'STDHV4DP.csv', 'SWQAOYXE.csv', 'SX43HNFG.csv', 'T3HZNAH7.csv', 'T4RD9XIB.csv', 'T59BU7WI.csv', 'T6T2RBKQ.csv', 'TBSWV5UB.csv', 'TF13GBS9.csv', 'TF3EDJKM.csv', 'TFHQ0BAH.csv', 'TGJI2CBF.csv', 'TI5IPBRL.csv', 'TILH3J18.csv', 'TIWCUA8K.csv', 'TOMJECG9.csv', 'TQABF9IF.csv', 'TVK488S0.csv', 'TY5S6P04.csv', 'TZ0KVLGN.csv', 'U0N59CWM.csv', 'U8FOK5KF.csv', 'UA25BKIA.csv', 'UAOROB5E.csv', 'UB6GQXMK.csv', 'UCLA48FC.csv', 'UEWS4EQU.csv', 'UFH1N5TH.csv', 'UGGRXHFK.csv', 'UH3BGZJB.csv', 'UH3DDA1B.csv', 'UH7YFZP7.csv', 'UJOB91TJ.csv', 'UMHMJS12.csv', 'UN5G44P4.csv', 'USNAECP7.csv', 'UTBAT3T8.csv', 'UXYOTA4P.csv', 'UYH8B1UU.csv', 'UZEGFZUW.csv', 'V5YN6MU4.csv', 'V8A0M0E6.csv', 'VA0YBXBK.csv', 'VD985XNT.csv', 'VG8CT8R9.csv', 'VQHPBH3L.csv', 'VRBSYZH8.csv', 'VRL33PFO.csv', 'VTIZO9FK.csv', 'VUYC1R66.csv', 'VXT929LJ.csv', 'W0IZ8E7K.csv', 'W26YREMI.csv', 'W718J2VB.csv', 'W979BFV0.csv', 'WEABZLPX.csv', 'WELOMUE9.csv', 'WLP580UC.csv', 'WRGNL330.csv', 'WRHURQSI.csv', 'WRSATFQO.csv', 'WW0HANTJ.csv', 'WZA5RZ2B.csv', 'X0DMFIRM.csv', 'X1KVGKMI.csv', 'XI7RJ4PA.csv', 'XIVETN6W.csv', 'XP0KPX7L.csv', 'XPQYMX6R.csv', 'XT6VVCAV.csv', 'XZ049VK7.csv', 'Y3OHOKFF.csv', 'Y4OS3SBS.csv', 'Y51SJVL4.csv', 'Y79LGQYI.csv', 'Y8J2NFNG.csv', 'YBAD72I5.csv', 'YGAZSUVP.csv', 'YGSKQSKV.csv', 'YHUQWIBT.csv', 'YK8GVYP2.csv', 'YPRQXY29.csv', 'YRQP7ZQC.csv', 'YRSQJEIL.csv', 'YSP9M89A.csv', 'YX5E0PSR.csv', 'YZ9MV0AZ.csv', 'Z08J73NC.csv', 'Z6QJXJF5.csv', 'ZAWYCL88.csv', 'ZB2ILR19.csv', 'ZDXHC5ZH.csv', 'ZMH90F01.csv', 'ZWGLJS7X.csv', 'ZZB2QYQP.csv'])"
      ]
     },
     "execution_count": 370,
     "metadata": {},
     "output_type": "execute_result"
    }
   ],
   "source": [
    "dfs.keys()"
   ]
  },
  {
   "cell_type": "code",
   "execution_count": 371,
   "metadata": {},
   "outputs": [
    {
     "data": {
      "text/html": [
       "<div>\n",
       "<style scoped>\n",
       "    .dataframe tbody tr th:only-of-type {\n",
       "        vertical-align: middle;\n",
       "    }\n",
       "\n",
       "    .dataframe tbody tr th {\n",
       "        vertical-align: top;\n",
       "    }\n",
       "\n",
       "    .dataframe thead th {\n",
       "        text-align: right;\n",
       "    }\n",
       "</style>\n",
       "<table border=\"1\" class=\"dataframe\">\n",
       "  <thead>\n",
       "    <tr style=\"text-align: right;\">\n",
       "      <th></th>\n",
       "      <th>col0</th>\n",
       "      <th>col1</th>\n",
       "      <th>col2</th>\n",
       "    </tr>\n",
       "  </thead>\n",
       "  <tbody>\n",
       "    <tr>\n",
       "      <th>0</th>\n",
       "      <td>Bryngwyn</td>\n",
       "      <td>250.5</td>\n",
       "      <td>95.9</td>\n",
       "    </tr>\n",
       "    <tr>\n",
       "      <th>1</th>\n",
       "      <td>Castell Dinas Bran</td>\n",
       "      <td>321.4</td>\n",
       "      <td>96.2</td>\n",
       "    </tr>\n",
       "    <tr>\n",
       "      <th>2</th>\n",
       "      <td>Mynydd Mawr</td>\n",
       "      <td>160.0</td>\n",
       "      <td>96.0</td>\n",
       "    </tr>\n",
       "    <tr>\n",
       "      <th>3</th>\n",
       "      <td>Skid Hill</td>\n",
       "      <td>186.0</td>\n",
       "      <td>98.0</td>\n",
       "    </tr>\n",
       "    <tr>\n",
       "      <th>4</th>\n",
       "      <td>Sokol</td>\n",
       "      <td>668.0</td>\n",
       "      <td>100.0</td>\n",
       "    </tr>\n",
       "  </tbody>\n",
       "</table>\n",
       "</div>"
      ],
      "text/plain": [
       "                 col0   col1   col2\n",
       "0            Bryngwyn  250.5   95.9\n",
       "1  Castell Dinas Bran  321.4   96.2\n",
       "2         Mynydd Mawr  160.0   96.0\n",
       "3           Skid Hill  186.0   98.0\n",
       "4               Sokol  668.0  100.0"
      ]
     },
     "execution_count": 371,
     "metadata": {},
     "output_type": "execute_result"
    }
   ],
   "source": [
    "dfs['03ENJ6XM.csv'].head()"
   ]
  },
  {
   "cell_type": "code",
   "execution_count": 372,
   "metadata": {},
   "outputs": [
    {
     "data": {
      "text/html": [
       "<div>\n",
       "<style scoped>\n",
       "    .dataframe tbody tr th:only-of-type {\n",
       "        vertical-align: middle;\n",
       "    }\n",
       "\n",
       "    .dataframe tbody tr th {\n",
       "        vertical-align: top;\n",
       "    }\n",
       "\n",
       "    .dataframe thead th {\n",
       "        text-align: right;\n",
       "    }\n",
       "</style>\n",
       "<table border=\"1\" class=\"dataframe\">\n",
       "  <thead>\n",
       "    <tr style=\"text-align: right;\">\n",
       "      <th></th>\n",
       "      <th>col0</th>\n",
       "      <th>col1</th>\n",
       "      <th>col2</th>\n",
       "    </tr>\n",
       "  </thead>\n",
       "  <tbody>\n",
       "    <tr>\n",
       "      <th>0</th>\n",
       "      <td>USS Halsey</td>\n",
       "      <td>NaN</td>\n",
       "      <td>Arleigh Burke-class destroyer</td>\n",
       "    </tr>\n",
       "    <tr>\n",
       "      <th>1</th>\n",
       "      <td>USS Barry</td>\n",
       "      <td>John Barry</td>\n",
       "      <td>Arleigh Burke-class destroyer</td>\n",
       "    </tr>\n",
       "    <tr>\n",
       "      <th>2</th>\n",
       "      <td>USS Mason</td>\n",
       "      <td>NaN</td>\n",
       "      <td>Arleigh Burke-class destroyer</td>\n",
       "    </tr>\n",
       "    <tr>\n",
       "      <th>3</th>\n",
       "      <td>USS Richard E. Byrd</td>\n",
       "      <td>Richard E. Byrd</td>\n",
       "      <td>Charles F. Adams-class destroyer</td>\n",
       "    </tr>\n",
       "    <tr>\n",
       "      <th>4</th>\n",
       "      <td>USS Kidd</td>\n",
       "      <td>Isaac C. Kidd</td>\n",
       "      <td>Kidd-class destroyer</td>\n",
       "    </tr>\n",
       "  </tbody>\n",
       "</table>\n",
       "</div>"
      ],
      "text/plain": [
       "                  col0             col1                              col2\n",
       "0           USS Halsey              NaN     Arleigh Burke-class destroyer\n",
       "1            USS Barry       John Barry     Arleigh Burke-class destroyer\n",
       "2            USS Mason              NaN     Arleigh Burke-class destroyer\n",
       "3  USS Richard E. Byrd  Richard E. Byrd  Charles F. Adams-class destroyer\n",
       "4             USS Kidd    Isaac C. Kidd              Kidd-class destroyer"
      ]
     },
     "execution_count": 372,
     "metadata": {},
     "output_type": "execute_result"
    }
   ],
   "source": [
    "dfs['WW0HANTJ.csv'].head()"
   ]
  },
  {
   "cell_type": "code",
   "execution_count": 373,
   "metadata": {},
   "outputs": [
    {
     "name": "stdout",
     "output_type": "stream",
     "text": [
      "Total number of tables in Valid dataset are: 500\n"
     ]
    }
   ],
   "source": [
    "print(f\"Total number of tables in Valid dataset are: {len(dfs)}\")"
   ]
  },
  {
   "cell_type": "code",
   "execution_count": 374,
   "metadata": {},
   "outputs": [
    {
     "name": "stdout",
     "output_type": "stream",
     "text": [
      "The number of values annotated is: 4247\n",
      "The number of unique annotations is: 3601\n"
     ]
    }
   ],
   "source": [
    "# Number of unique labels for CEA in Valid dataset\n",
    "cea_gt = pd.read_csv(\"DataSets/Valid/gt/cea_gt.csv\", header=None)\n",
    "cea_gt.iloc[:, 3].nunique()\n",
    "print(f\"The number of values annotated is: {cea_gt.shape[0]}\")\n",
    "print(f\"The number of unique annotations is: {cea_gt.iloc[:, 3].nunique()}\")"
   ]
  },
  {
   "cell_type": "markdown",
   "metadata": {},
   "source": [
    "### Columns count"
   ]
  },
  {
   "cell_type": "code",
   "execution_count": 375,
   "metadata": {},
   "outputs": [
    {
     "data": {
      "image/png": "[encoded data removed]",
      "text/plain": [
       "<Figure size 720x432 with 1 Axes>"
      ]
     },
     "metadata": {
      "needs_background": "light"
     },
     "output_type": "display_data"
    }
   ],
   "source": [
    "no_columns_per_table = {\n",
    "    \"table\": [],\n",
    "    \"number_of_columns\": []\n",
    "}\n",
    "\n",
    "for index, key in enumerate(dfs):\n",
    "    no_columns_per_table[\"table\"].append(key)\n",
    "    no_columns_per_table[\"number_of_columns\"].append(dfs[key].shape[1])\n",
    "    \n",
    "no_columns_per_table = pd.DataFrame(no_columns_per_table)\n",
    "no_columns_per_table.head()\n",
    "\n",
    "# Plotting the count plot\n",
    "plt.figure(figsize=(10, 6))\n",
    "sns.countplot(data=no_columns_per_table, x='number_of_columns')\n",
    "\n",
    "# Adding labels and title\n",
    "plt.xlabel('Number of columns')\n",
    "plt.ylabel('Number of Tables')\n",
    "plt.title('Count Plot of number of columns')\n",
    "\n",
    "\n",
    "# Calculate and add total count above each bar\n",
    "total_counts = no_columns_per_table['number_of_columns'].value_counts().sort_index()\n",
    "for index, count in enumerate(total_counts):\n",
    "    plt.text(index, count, str(count), ha='center', va='bottom', fontweight='bold')\n",
    "\n",
    "\n",
    "# Display the plot\n",
    "plt.show()"
   ]
  },
  {
   "cell_type": "markdown",
   "metadata": {},
   "source": [
    "### Types of Columns"
   ]
  },
  {
   "cell_type": "code",
   "execution_count": 376,
   "metadata": {},
   "outputs": [
    {
     "data": {
      "image/png": "[encoded data removed]",
      "text/plain": [
       "<Figure size 1080x648 with 1 Axes>"
      ]
     },
     "metadata": {
      "needs_background": "light"
     },
     "output_type": "display_data"
    }
   ],
   "source": [
    "# See the types of the columns\n",
    "columns_types_count = {\n",
    "    \"object\": 0,\n",
    "    \"int64\": 0,\n",
    "    \"float64\": 0,\n",
    "    \"bool\": 0,\n",
    "    \"datetime64\": 0\n",
    "}\n",
    "\n",
    "for index, key in enumerate(dfs):\n",
    "    types = dfs[key].dtypes.tolist()\n",
    "    for column_type in types:\n",
    "        if column_type == \"object\":\n",
    "            columns_types_count['object'] = columns_types_count['object'] + 1\n",
    "        elif column_type == \"float64\":\n",
    "            columns_types_count['float64'] = columns_types_count['float64'] + 1\n",
    "        elif column_type == \"int64\":\n",
    "            columns_types_count['int64'] = columns_types_count['int64'] + 1\n",
    "        elif column_type == \"bool\":\n",
    "            columns_types_count['bool'] = columns_types_count['bool'] + 1\n",
    "        elif column_type == \"datetime64\":\n",
    "            columns_types_count['datetime64'] = columns_types_count['datetime64'] + 1\n",
    "  \n",
    "columns_types_count = pd.DataFrame({\n",
    "    'object': [columns_types_count['object']],\n",
    "    'int64': [columns_types_count['int64']],\n",
    "    'float64': [columns_types_count['float64']],\n",
    "    'bool': [columns_types_count['bool']],\n",
    "    'datetime64': [columns_types_count['datetime64']],\n",
    "})\n",
    "columns_types_count.head()\n",
    "\n",
    "# Transpose the DataFrame\n",
    "df_transposed = columns_types_count.transpose()\n",
    "\n",
    "# Reset the index and rename the columns\n",
    "df_transposed = df_transposed.reset_index()\n",
    "df_transposed.columns = ['Data Type', 'Count']\n",
    "\n",
    "# Plotting the bar plot using Seaborn\n",
    "plt.figure(figsize=(15, 9))\n",
    "sns.barplot(data=df_transposed, x='Data Type', y='Count')\n",
    "\n",
    "# Adding labels and title\n",
    "plt.xlabel('Data Type')\n",
    "plt.ylabel('Count of Columns')\n",
    "plt.title('Count of Columns for Each Data Type')\n",
    "\n",
    "# Annotating the bar plot with exact numbers\n",
    "for index, row in df_transposed.iterrows():\n",
    "    plt.text(index, row['Count'], str(row['Count']), ha='center', va='bottom')\n",
    "\n",
    "\n",
    "# Display the plot\n",
    "plt.show()"
   ]
  },
  {
   "cell_type": "markdown",
   "metadata": {},
   "source": [
    "### Missing Values"
   ]
  },
  {
   "cell_type": "code",
   "execution_count": 377,
   "metadata": {},
   "outputs": [
    {
     "data": {
      "image/png": "[encoded data removed]",
      "text/plain": [
       "<Figure size 720x432 with 1 Axes>"
      ]
     },
     "metadata": {
      "needs_background": "light"
     },
     "output_type": "display_data"
    }
   ],
   "source": [
    "# How many missing values per table\n",
    "no_missing_values_per_table = {\n",
    "    \"table\": [],\n",
    "    \"number_of_missing_values\": []\n",
    "}\n",
    "\n",
    "for index, key in enumerate(dfs):\n",
    "    no_missing_values_per_table[\"table\"].append(key)\n",
    "    \n",
    "    # Count the number of missing values in each column\n",
    "    missing_values = dfs[key].isnull().sum()\n",
    "\n",
    "    # Total number of missing values in the entire dataframe\n",
    "    total_missing = missing_values.sum()\n",
    "    \n",
    "    no_missing_values_per_table[\"number_of_missing_values\"].append(total_missing)\n",
    "    \n",
    "no_missing_values_per_table = pd.DataFrame(no_missing_values_per_table)\n",
    "no_missing_values_per_table.head()\n",
    "\n",
    "# Plotting the count plot\n",
    "plt.figure(figsize=(10, 6))\n",
    "sns.countplot(data=no_missing_values_per_table, x='number_of_missing_values')\n",
    "\n",
    "# Adding labels and title\n",
    "plt.xlabel('Number of missing values')\n",
    "plt.ylabel('Count of Tables')\n",
    "plt.title('Count Plot of number of missing values')\n",
    "\n",
    "# Calculate and add total count above each bar\n",
    "total_counts = no_missing_values_per_table['number_of_missing_values'].value_counts().sort_index()\n",
    "for index, count in enumerate(total_counts):\n",
    "    plt.text(index, count, str(count), ha='center', va='bottom', fontweight='bold')\n",
    "\n",
    "# Display the plot\n",
    "plt.show()"
   ]
  },
  {
   "cell_type": "code",
   "execution_count": 378,
   "metadata": {},
   "outputs": [
    {
     "data": {
      "text/plain": [
       "751"
      ]
     },
     "execution_count": 378,
     "metadata": {},
     "output_type": "execute_result"
    }
   ],
   "source": [
    "no_missing_values_per_table[no_missing_values_per_table[\"number_of_missing_values\"] > 0].number_of_missing_values.sum()"
   ]
  },
  {
   "cell_type": "code",
   "execution_count": 379,
   "metadata": {},
   "outputs": [
    {
     "name": "stdout",
     "output_type": "stream",
     "text": [
      "Total number of missing values is: 751\n"
     ]
    }
   ],
   "source": [
    "total_number_missing_values = no_missing_values_per_table[no_missing_values_per_table[\"number_of_missing_values\"] > 0].number_of_missing_values.sum()\n",
    "print(f\"Total number of missing values is: {total_number_missing_values}\")"
   ]
  },
  {
   "cell_type": "markdown",
   "metadata": {},
   "source": [
    "## Does they annotate the NaN values ? "
   ]
  },
  {
   "cell_type": "code",
   "execution_count": 380,
   "metadata": {},
   "outputs": [
    {
     "name": "stdout",
     "output_type": "stream",
     "text": [
      "0JGLUKC7.csv\n",
      "0WPFA2SX.csv\n"
     ]
    }
   ],
   "source": [
    "# Does the missing values are annotated ?\n",
    "eg_1_table = no_missing_values_per_table[no_missing_values_per_table[\"number_of_missing_values\"] > 0].table.values[1]\n",
    "eg_2_table = no_missing_values_per_table[no_missing_values_per_table[\"number_of_missing_values\"] > 0].table.values[4]\n",
    "print(eg_1_table)\n",
    "print(eg_2_table)"
   ]
  },
  {
   "cell_type": "code",
   "execution_count": 381,
   "metadata": {},
   "outputs": [
    {
     "data": {
      "text/html": [
       "<div>\n",
       "<style scoped>\n",
       "    .dataframe tbody tr th:only-of-type {\n",
       "        vertical-align: middle;\n",
       "    }\n",
       "\n",
       "    .dataframe tbody tr th {\n",
       "        vertical-align: top;\n",
       "    }\n",
       "\n",
       "    .dataframe thead th {\n",
       "        text-align: right;\n",
       "    }\n",
       "</style>\n",
       "<table border=\"1\" class=\"dataframe\">\n",
       "  <thead>\n",
       "    <tr style=\"text-align: right;\">\n",
       "      <th></th>\n",
       "      <th>col0</th>\n",
       "      <th>col1</th>\n",
       "    </tr>\n",
       "  </thead>\n",
       "  <tbody>\n",
       "    <tr>\n",
       "      <th>0</th>\n",
       "      <td>Green Man</td>\n",
       "      <td>NaN</td>\n",
       "    </tr>\n",
       "    <tr>\n",
       "      <th>1</th>\n",
       "      <td>Nanny</td>\n",
       "      <td>Walt Simonson</td>\n",
       "    </tr>\n",
       "    <tr>\n",
       "      <th>2</th>\n",
       "      <td>Cyborg</td>\n",
       "      <td>Marv Wolfman</td>\n",
       "    </tr>\n",
       "    <tr>\n",
       "      <th>3</th>\n",
       "      <td>Cyborg</td>\n",
       "      <td>Chris Terrio</td>\n",
       "    </tr>\n",
       "  </tbody>\n",
       "</table>\n",
       "</div>"
      ],
      "text/plain": [
       "        col0           col1\n",
       "0  Green Man            NaN\n",
       "1      Nanny  Walt Simonson\n",
       "2     Cyborg   Marv Wolfman\n",
       "3     Cyborg   Chris Terrio"
      ]
     },
     "execution_count": 381,
     "metadata": {},
     "output_type": "execute_result"
    }
   ],
   "source": [
    "dfs[eg_1_table]"
   ]
  },
  {
   "cell_type": "code",
   "execution_count": 382,
   "metadata": {},
   "outputs": [
    {
     "data": {
      "text/html": [
       "<div>\n",
       "<style scoped>\n",
       "    .dataframe tbody tr th:only-of-type {\n",
       "        vertical-align: middle;\n",
       "    }\n",
       "\n",
       "    .dataframe tbody tr th {\n",
       "        vertical-align: top;\n",
       "    }\n",
       "\n",
       "    .dataframe thead th {\n",
       "        text-align: right;\n",
       "    }\n",
       "</style>\n",
       "<table border=\"1\" class=\"dataframe\">\n",
       "  <thead>\n",
       "    <tr style=\"text-align: right;\">\n",
       "      <th></th>\n",
       "      <th>col0</th>\n",
       "      <th>col1</th>\n",
       "      <th>col2</th>\n",
       "      <th>col3</th>\n",
       "    </tr>\n",
       "  </thead>\n",
       "  <tbody>\n",
       "    <tr>\n",
       "      <th>0</th>\n",
       "      <td>Design for an altar crown</td>\n",
       "      <td>paper</td>\n",
       "      <td>King Baudouin Foundation</td>\n",
       "      <td>Heritage Fund</td>\n",
       "    </tr>\n",
       "    <tr>\n",
       "      <th>1</th>\n",
       "      <td>Design for a Virgin Mary</td>\n",
       "      <td>pencil</td>\n",
       "      <td>Cuypershuis</td>\n",
       "      <td>NaN</td>\n",
       "    </tr>\n",
       "    <tr>\n",
       "      <th>2</th>\n",
       "      <td>Design for an altar</td>\n",
       "      <td>NaN</td>\n",
       "      <td>King Baudouin Foundation</td>\n",
       "      <td>Heritage Fund</td>\n",
       "    </tr>\n",
       "    <tr>\n",
       "      <th>3</th>\n",
       "      <td>Design for an altar</td>\n",
       "      <td>NaN</td>\n",
       "      <td>Collection Van Herck</td>\n",
       "      <td>Alfons Van Herck</td>\n",
       "    </tr>\n",
       "    <tr>\n",
       "      <th>4</th>\n",
       "      <td>Design for a Female Saint</td>\n",
       "      <td>pencil</td>\n",
       "      <td>Cuypershuis</td>\n",
       "      <td>NaN</td>\n",
       "    </tr>\n",
       "    <tr>\n",
       "      <th>5</th>\n",
       "      <td>Design for a door ornament with putti</td>\n",
       "      <td>NaN</td>\n",
       "      <td>Collection Van Herck</td>\n",
       "      <td>Alfons Van Herck</td>\n",
       "    </tr>\n",
       "    <tr>\n",
       "      <th>6</th>\n",
       "      <td>Design for a door ornament with putti</td>\n",
       "      <td>NaN</td>\n",
       "      <td>Collection Van Herck</td>\n",
       "      <td>Alfons Van Herck</td>\n",
       "    </tr>\n",
       "  </tbody>\n",
       "</table>\n",
       "</div>"
      ],
      "text/plain": [
       "                                    col0    col1                      col2  \\\n",
       "0              Design for an altar crown   paper  King Baudouin Foundation   \n",
       "1               Design for a Virgin Mary  pencil               Cuypershuis   \n",
       "2                    Design for an altar     NaN  King Baudouin Foundation   \n",
       "3                    Design for an altar     NaN      Collection Van Herck   \n",
       "4              Design for a Female Saint  pencil               Cuypershuis   \n",
       "5  Design for a door ornament with putti     NaN      Collection Van Herck   \n",
       "6  Design for a door ornament with putti     NaN      Collection Van Herck   \n",
       "\n",
       "               col3  \n",
       "0     Heritage Fund  \n",
       "1               NaN  \n",
       "2     Heritage Fund  \n",
       "3  Alfons Van Herck  \n",
       "4               NaN  \n",
       "5  Alfons Van Herck  \n",
       "6  Alfons Van Herck  "
      ]
     },
     "execution_count": 382,
     "metadata": {},
     "output_type": "execute_result"
    }
   ],
   "source": [
    "dfs[eg_2_table]"
   ]
  },
  {
   "cell_type": "code",
   "execution_count": 383,
   "metadata": {},
   "outputs": [
    {
     "data": {
      "text/html": [
       "<div>\n",
       "<style scoped>\n",
       "    .dataframe tbody tr th:only-of-type {\n",
       "        vertical-align: middle;\n",
       "    }\n",
       "\n",
       "    .dataframe tbody tr th {\n",
       "        vertical-align: top;\n",
       "    }\n",
       "\n",
       "    .dataframe thead th {\n",
       "        text-align: right;\n",
       "    }\n",
       "</style>\n",
       "<table border=\"1\" class=\"dataframe\">\n",
       "  <thead>\n",
       "    <tr style=\"text-align: right;\">\n",
       "      <th></th>\n",
       "      <th>0</th>\n",
       "      <th>1</th>\n",
       "      <th>2</th>\n",
       "      <th>3</th>\n",
       "    </tr>\n",
       "  </thead>\n",
       "  <tbody>\n",
       "    <tr>\n",
       "      <th>0</th>\n",
       "      <td>IUPOCN5C</td>\n",
       "      <td>1</td>\n",
       "      <td>0</td>\n",
       "      <td>http://www.wikidata.org/entity/Q6386554</td>\n",
       "    </tr>\n",
       "    <tr>\n",
       "      <th>1</th>\n",
       "      <td>IUPOCN5C</td>\n",
       "      <td>2</td>\n",
       "      <td>0</td>\n",
       "      <td>http://www.wikidata.org/entity/Q6500028</td>\n",
       "    </tr>\n",
       "    <tr>\n",
       "      <th>2</th>\n",
       "      <td>BQC7DZZR</td>\n",
       "      <td>1</td>\n",
       "      <td>0</td>\n",
       "      <td>http://www.wikidata.org/entity/Q4975221</td>\n",
       "    </tr>\n",
       "    <tr>\n",
       "      <th>3</th>\n",
       "      <td>BQC7DZZR</td>\n",
       "      <td>2</td>\n",
       "      <td>0</td>\n",
       "      <td>http://www.wikidata.org/entity/Q7996163</td>\n",
       "    </tr>\n",
       "    <tr>\n",
       "      <th>4</th>\n",
       "      <td>BQC7DZZR</td>\n",
       "      <td>3</td>\n",
       "      <td>0</td>\n",
       "      <td>http://www.wikidata.org/entity/Q6858435</td>\n",
       "    </tr>\n",
       "  </tbody>\n",
       "</table>\n",
       "</div>"
      ],
      "text/plain": [
       "          0  1  2                                        3\n",
       "0  IUPOCN5C  1  0  http://www.wikidata.org/entity/Q6386554\n",
       "1  IUPOCN5C  2  0  http://www.wikidata.org/entity/Q6500028\n",
       "2  BQC7DZZR  1  0  http://www.wikidata.org/entity/Q4975221\n",
       "3  BQC7DZZR  2  0  http://www.wikidata.org/entity/Q7996163\n",
       "4  BQC7DZZR  3  0  http://www.wikidata.org/entity/Q6858435"
      ]
     },
     "execution_count": 383,
     "metadata": {},
     "output_type": "execute_result"
    }
   ],
   "source": [
    "cea_targets = pd.read_csv('DataSets/Valid/gt/cea_gt.csv', header=None)\n",
    "cea_targets.head()"
   ]
  },
  {
   "cell_type": "code",
   "execution_count": 384,
   "metadata": {},
   "outputs": [
    {
     "data": {
      "text/html": [
       "<div>\n",
       "<style scoped>\n",
       "    .dataframe tbody tr th:only-of-type {\n",
       "        vertical-align: middle;\n",
       "    }\n",
       "\n",
       "    .dataframe tbody tr th {\n",
       "        vertical-align: top;\n",
       "    }\n",
       "\n",
       "    .dataframe thead th {\n",
       "        text-align: right;\n",
       "    }\n",
       "</style>\n",
       "<table border=\"1\" class=\"dataframe\">\n",
       "  <thead>\n",
       "    <tr style=\"text-align: right;\">\n",
       "      <th></th>\n",
       "      <th>0</th>\n",
       "      <th>1</th>\n",
       "      <th>2</th>\n",
       "      <th>3</th>\n",
       "    </tr>\n",
       "  </thead>\n",
       "  <tbody>\n",
       "    <tr>\n",
       "      <th>652</th>\n",
       "      <td>0JGLUKC7</td>\n",
       "      <td>1</td>\n",
       "      <td>0</td>\n",
       "      <td>http://www.wikidata.org/entity/Q3776323</td>\n",
       "    </tr>\n",
       "    <tr>\n",
       "      <th>653</th>\n",
       "      <td>0JGLUKC7</td>\n",
       "      <td>2</td>\n",
       "      <td>0</td>\n",
       "      <td>http://www.wikidata.org/entity/Q111550382</td>\n",
       "    </tr>\n",
       "    <tr>\n",
       "      <th>654</th>\n",
       "      <td>0JGLUKC7</td>\n",
       "      <td>2</td>\n",
       "      <td>1</td>\n",
       "      <td>http://www.wikidata.org/entity/Q675791</td>\n",
       "    </tr>\n",
       "    <tr>\n",
       "      <th>655</th>\n",
       "      <td>0JGLUKC7</td>\n",
       "      <td>3</td>\n",
       "      <td>0</td>\n",
       "      <td>http://www.wikidata.org/entity/Q2466726</td>\n",
       "    </tr>\n",
       "    <tr>\n",
       "      <th>656</th>\n",
       "      <td>0JGLUKC7</td>\n",
       "      <td>3</td>\n",
       "      <td>1</td>\n",
       "      <td>http://www.wikidata.org/entity/Q1333734</td>\n",
       "    </tr>\n",
       "    <tr>\n",
       "      <th>657</th>\n",
       "      <td>0JGLUKC7</td>\n",
       "      <td>4</td>\n",
       "      <td>0</td>\n",
       "      <td>http://www.wikidata.org/entity/Q57394189</td>\n",
       "    </tr>\n",
       "    <tr>\n",
       "      <th>658</th>\n",
       "      <td>0JGLUKC7</td>\n",
       "      <td>4</td>\n",
       "      <td>1</td>\n",
       "      <td>http://www.wikidata.org/entity/Q3208159</td>\n",
       "    </tr>\n",
       "  </tbody>\n",
       "</table>\n",
       "</div>"
      ],
      "text/plain": [
       "            0  1  2                                          3\n",
       "652  0JGLUKC7  1  0    http://www.wikidata.org/entity/Q3776323\n",
       "653  0JGLUKC7  2  0  http://www.wikidata.org/entity/Q111550382\n",
       "654  0JGLUKC7  2  1     http://www.wikidata.org/entity/Q675791\n",
       "655  0JGLUKC7  3  0    http://www.wikidata.org/entity/Q2466726\n",
       "656  0JGLUKC7  3  1    http://www.wikidata.org/entity/Q1333734\n",
       "657  0JGLUKC7  4  0   http://www.wikidata.org/entity/Q57394189\n",
       "658  0JGLUKC7  4  1    http://www.wikidata.org/entity/Q3208159"
      ]
     },
     "execution_count": 384,
     "metadata": {},
     "output_type": "execute_result"
    }
   ],
   "source": [
    "cea_targets[cea_targets[0] == \"0JGLUKC7\"]"
   ]
  },
  {
   "cell_type": "code",
   "execution_count": 385,
   "metadata": {},
   "outputs": [
    {
     "data": {
      "text/html": [
       "<div>\n",
       "<style scoped>\n",
       "    .dataframe tbody tr th:only-of-type {\n",
       "        vertical-align: middle;\n",
       "    }\n",
       "\n",
       "    .dataframe tbody tr th {\n",
       "        vertical-align: top;\n",
       "    }\n",
       "\n",
       "    .dataframe thead th {\n",
       "        text-align: right;\n",
       "    }\n",
       "</style>\n",
       "<table border=\"1\" class=\"dataframe\">\n",
       "  <thead>\n",
       "    <tr style=\"text-align: right;\">\n",
       "      <th></th>\n",
       "      <th>0</th>\n",
       "      <th>1</th>\n",
       "      <th>2</th>\n",
       "      <th>3</th>\n",
       "    </tr>\n",
       "  </thead>\n",
       "  <tbody>\n",
       "    <tr>\n",
       "      <th>3003</th>\n",
       "      <td>0WPFA2SX</td>\n",
       "      <td>1</td>\n",
       "      <td>0</td>\n",
       "      <td>http://www.wikidata.org/entity/Q59097177</td>\n",
       "    </tr>\n",
       "    <tr>\n",
       "      <th>3004</th>\n",
       "      <td>0WPFA2SX</td>\n",
       "      <td>1</td>\n",
       "      <td>1</td>\n",
       "      <td>http://www.wikidata.org/entity/Q11472</td>\n",
       "    </tr>\n",
       "    <tr>\n",
       "      <th>3005</th>\n",
       "      <td>0WPFA2SX</td>\n",
       "      <td>1</td>\n",
       "      <td>2</td>\n",
       "      <td>http://www.wikidata.org/entity/Q2780100</td>\n",
       "    </tr>\n",
       "    <tr>\n",
       "      <th>3006</th>\n",
       "      <td>0WPFA2SX</td>\n",
       "      <td>1</td>\n",
       "      <td>3</td>\n",
       "      <td>http://www.wikidata.org/entity/Q47458848</td>\n",
       "    </tr>\n",
       "    <tr>\n",
       "      <th>3007</th>\n",
       "      <td>0WPFA2SX</td>\n",
       "      <td>2</td>\n",
       "      <td>0</td>\n",
       "      <td>http://www.wikidata.org/entity/Q55693869</td>\n",
       "    </tr>\n",
       "    <tr>\n",
       "      <th>3008</th>\n",
       "      <td>0WPFA2SX</td>\n",
       "      <td>2</td>\n",
       "      <td>1</td>\n",
       "      <td>http://www.wikidata.org/entity/Q14674</td>\n",
       "    </tr>\n",
       "    <tr>\n",
       "      <th>3009</th>\n",
       "      <td>0WPFA2SX</td>\n",
       "      <td>2</td>\n",
       "      <td>2</td>\n",
       "      <td>http://www.wikidata.org/entity/Q15874141</td>\n",
       "    </tr>\n",
       "    <tr>\n",
       "      <th>3010</th>\n",
       "      <td>0WPFA2SX</td>\n",
       "      <td>3</td>\n",
       "      <td>0</td>\n",
       "      <td>http://www.wikidata.org/entity/Q59098216</td>\n",
       "    </tr>\n",
       "    <tr>\n",
       "      <th>3011</th>\n",
       "      <td>0WPFA2SX</td>\n",
       "      <td>3</td>\n",
       "      <td>2</td>\n",
       "      <td>http://www.wikidata.org/entity/Q2780100</td>\n",
       "    </tr>\n",
       "    <tr>\n",
       "      <th>3012</th>\n",
       "      <td>0WPFA2SX</td>\n",
       "      <td>3</td>\n",
       "      <td>3</td>\n",
       "      <td>http://www.wikidata.org/entity/Q47458848</td>\n",
       "    </tr>\n",
       "    <tr>\n",
       "      <th>3013</th>\n",
       "      <td>0WPFA2SX</td>\n",
       "      <td>4</td>\n",
       "      <td>0</td>\n",
       "      <td>http://www.wikidata.org/entity/Q59097490</td>\n",
       "    </tr>\n",
       "    <tr>\n",
       "      <th>3014</th>\n",
       "      <td>0WPFA2SX</td>\n",
       "      <td>4</td>\n",
       "      <td>2</td>\n",
       "      <td>http://www.wikidata.org/entity/Q58072385</td>\n",
       "    </tr>\n",
       "    <tr>\n",
       "      <th>3015</th>\n",
       "      <td>0WPFA2SX</td>\n",
       "      <td>4</td>\n",
       "      <td>3</td>\n",
       "      <td>http://www.wikidata.org/entity/Q58083967</td>\n",
       "    </tr>\n",
       "    <tr>\n",
       "      <th>3016</th>\n",
       "      <td>0WPFA2SX</td>\n",
       "      <td>5</td>\n",
       "      <td>0</td>\n",
       "      <td>http://www.wikidata.org/entity/Q55928528</td>\n",
       "    </tr>\n",
       "    <tr>\n",
       "      <th>3017</th>\n",
       "      <td>0WPFA2SX</td>\n",
       "      <td>5</td>\n",
       "      <td>1</td>\n",
       "      <td>http://www.wikidata.org/entity/Q14674</td>\n",
       "    </tr>\n",
       "    <tr>\n",
       "      <th>3018</th>\n",
       "      <td>0WPFA2SX</td>\n",
       "      <td>5</td>\n",
       "      <td>2</td>\n",
       "      <td>http://www.wikidata.org/entity/Q15874141</td>\n",
       "    </tr>\n",
       "    <tr>\n",
       "      <th>3019</th>\n",
       "      <td>0WPFA2SX</td>\n",
       "      <td>6</td>\n",
       "      <td>0</td>\n",
       "      <td>http://www.wikidata.org/entity/Q59097539</td>\n",
       "    </tr>\n",
       "    <tr>\n",
       "      <th>3020</th>\n",
       "      <td>0WPFA2SX</td>\n",
       "      <td>6</td>\n",
       "      <td>2</td>\n",
       "      <td>http://www.wikidata.org/entity/Q58072385</td>\n",
       "    </tr>\n",
       "    <tr>\n",
       "      <th>3021</th>\n",
       "      <td>0WPFA2SX</td>\n",
       "      <td>6</td>\n",
       "      <td>3</td>\n",
       "      <td>http://www.wikidata.org/entity/Q58083967</td>\n",
       "    </tr>\n",
       "    <tr>\n",
       "      <th>3022</th>\n",
       "      <td>0WPFA2SX</td>\n",
       "      <td>7</td>\n",
       "      <td>0</td>\n",
       "      <td>http://www.wikidata.org/entity/Q59097540</td>\n",
       "    </tr>\n",
       "    <tr>\n",
       "      <th>3023</th>\n",
       "      <td>0WPFA2SX</td>\n",
       "      <td>7</td>\n",
       "      <td>2</td>\n",
       "      <td>http://www.wikidata.org/entity/Q58072385</td>\n",
       "    </tr>\n",
       "    <tr>\n",
       "      <th>3024</th>\n",
       "      <td>0WPFA2SX</td>\n",
       "      <td>7</td>\n",
       "      <td>3</td>\n",
       "      <td>http://www.wikidata.org/entity/Q58083967</td>\n",
       "    </tr>\n",
       "  </tbody>\n",
       "</table>\n",
       "</div>"
      ],
      "text/plain": [
       "             0  1  2                                         3\n",
       "3003  0WPFA2SX  1  0  http://www.wikidata.org/entity/Q59097177\n",
       "3004  0WPFA2SX  1  1     http://www.wikidata.org/entity/Q11472\n",
       "3005  0WPFA2SX  1  2   http://www.wikidata.org/entity/Q2780100\n",
       "3006  0WPFA2SX  1  3  http://www.wikidata.org/entity/Q47458848\n",
       "3007  0WPFA2SX  2  0  http://www.wikidata.org/entity/Q55693869\n",
       "3008  0WPFA2SX  2  1     http://www.wikidata.org/entity/Q14674\n",
       "3009  0WPFA2SX  2  2  http://www.wikidata.org/entity/Q15874141\n",
       "3010  0WPFA2SX  3  0  http://www.wikidata.org/entity/Q59098216\n",
       "3011  0WPFA2SX  3  2   http://www.wikidata.org/entity/Q2780100\n",
       "3012  0WPFA2SX  3  3  http://www.wikidata.org/entity/Q47458848\n",
       "3013  0WPFA2SX  4  0  http://www.wikidata.org/entity/Q59097490\n",
       "3014  0WPFA2SX  4  2  http://www.wikidata.org/entity/Q58072385\n",
       "3015  0WPFA2SX  4  3  http://www.wikidata.org/entity/Q58083967\n",
       "3016  0WPFA2SX  5  0  http://www.wikidata.org/entity/Q55928528\n",
       "3017  0WPFA2SX  5  1     http://www.wikidata.org/entity/Q14674\n",
       "3018  0WPFA2SX  5  2  http://www.wikidata.org/entity/Q15874141\n",
       "3019  0WPFA2SX  6  0  http://www.wikidata.org/entity/Q59097539\n",
       "3020  0WPFA2SX  6  2  http://www.wikidata.org/entity/Q58072385\n",
       "3021  0WPFA2SX  6  3  http://www.wikidata.org/entity/Q58083967\n",
       "3022  0WPFA2SX  7  0  http://www.wikidata.org/entity/Q59097540\n",
       "3023  0WPFA2SX  7  2  http://www.wikidata.org/entity/Q58072385\n",
       "3024  0WPFA2SX  7  3  http://www.wikidata.org/entity/Q58083967"
      ]
     },
     "execution_count": 385,
     "metadata": {},
     "output_type": "execute_result"
    }
   ],
   "source": [
    "cea_targets[cea_targets[0] == \"0WPFA2SX\"]"
   ]
  },
  {
   "cell_type": "code",
   "execution_count": 386,
   "metadata": {},
   "outputs": [
    {
     "name": "stdout",
     "output_type": "stream",
     "text": [
      "Percentage of tables in Valid dataset that has at least one missing value: 43.6%\n"
     ]
    }
   ],
   "source": [
    "# To correct\n",
    "count = no_missing_values_per_table[no_missing_values_per_table[\"number_of_missing_values\"] > 0].shape[0]\n",
    "print(f\"Percentage of tables in Valid dataset that has at least one missing value: {(count/len(dfs)) * 100}%\")"
   ]
  },
  {
   "cell_type": "markdown",
   "metadata": {},
   "source": [
    "### Languages used in cells"
   ]
  },
  {
   "cell_type": "code",
   "execution_count": 387,
   "metadata": {},
   "outputs": [
    {
     "name": "stdout",
     "output_type": "stream",
     "text": [
      "{'cy': 5, 'sv': 57, 'en': 2626, 'et': 52, 'pl': 62, 'cs': 34, 'es': 216, 'eu': 17, 'id': 50, 'de': 436, 'fr': 167, 'gl': 13, 'pt': 65, 'it': 99, 'tl': 8, 'ca': 29, 'zh': 3, 'fi': 53, 'da': 37, 'nl': 80, 'mt': 12, 'hr': 5, 'lt': 36, 'az': 1, 'no': 9, 'lv': 5, 'ro': 31, 'sl': 32, 'sq': 3, 'xh': 5, 'br': 2, 'tr': 10, 'sk': 24, 'la': 8, 'hu': 14, 'wa': 1, 'nn': 2, 'mg': 3, 'nb': 3, 'eo': 5, 'ms': 5, 'af': 3, 'ht': 3, 'vi': 6, 'is': 2, 'rw': 5, 'ta': 1, 'sw': 2, 'vo': 2, 'oc': 1, 'ja': 1, 'qu': 1, 'ar': 1, 'ga': 1}\n"
     ]
    },
    {
     "data": {
      "image/png": "[encoded data removed]",
      "text/plain": [
       "<Figure size 1080x648 with 1 Axes>"
      ]
     },
     "metadata": {
      "needs_background": "light"
     },
     "output_type": "display_data"
    }
   ],
   "source": [
    "# See the languages of the columns for all cells\n",
    "languages_count = {}\n",
    "\n",
    "for index, key in enumerate(dfs):\n",
    "    df = dfs[key]\n",
    "    columns = df.columns.tolist()\n",
    "    for col in columns:\n",
    "        if df[col].dtype == 'object':\n",
    "            for value in df[col].dropna().values:\n",
    "                detected_language, _ = langid.classify(value)\n",
    "                if detected_language in languages_count.keys():\n",
    "                    languages_count[detected_language] = languages_count[detected_language] + 1\n",
    "                else:\n",
    "                    languages_count[detected_language] = 1\n",
    "    \n",
    "print(languages_count)\n",
    "\n",
    "# Transform each value into a list\n",
    "languages_count = {key: [value] for key, value in languages_count.items()}\n",
    "    \n",
    "languages_count = pd.DataFrame(languages_count)\n",
    "\n",
    "# Transpose the DataFrame\n",
    "df_transposed = languages_count.transpose()\n",
    "\n",
    "# Reset the index and rename the columns\n",
    "df_transposed = df_transposed.reset_index()\n",
    "df_transposed.columns = ['Language Code', 'Count']\n",
    "\n",
    "# Plotting the bar plot using Seaborn\n",
    "plt.figure(figsize=(15, 9))\n",
    "sns.barplot(data=df_transposed, x='Language Code', y='Count')\n",
    "\n",
    "# Adding labels and title\n",
    "plt.xlabel('Language Code')\n",
    "plt.ylabel('Count of Cells')\n",
    "plt.title('Language Frequency')\n",
    "\n",
    "# Annotating the bar plot with exact numbers\n",
    "for index, row in df_transposed.iterrows():\n",
    "    plt.text(index, row['Count'], str(row['Count']), ha='center', va='bottom')\n",
    "\n",
    "\n",
    "# Display the plot\n",
    "plt.show()"
   ]
  },
  {
   "cell_type": "code",
   "execution_count": 388,
   "metadata": {},
   "outputs": [
    {
     "data": {
      "text/html": [
       "<div>\n",
       "<style scoped>\n",
       "    .dataframe tbody tr th:only-of-type {\n",
       "        vertical-align: middle;\n",
       "    }\n",
       "\n",
       "    .dataframe tbody tr th {\n",
       "        vertical-align: top;\n",
       "    }\n",
       "\n",
       "    .dataframe thead th {\n",
       "        text-align: right;\n",
       "    }\n",
       "</style>\n",
       "<table border=\"1\" class=\"dataframe\">\n",
       "  <thead>\n",
       "    <tr style=\"text-align: right;\">\n",
       "      <th></th>\n",
       "      <th>0</th>\n",
       "      <th>1</th>\n",
       "      <th>2</th>\n",
       "      <th>3</th>\n",
       "    </tr>\n",
       "  </thead>\n",
       "  <tbody>\n",
       "    <tr>\n",
       "      <th>0</th>\n",
       "      <td>IUPOCN5C</td>\n",
       "      <td>1</td>\n",
       "      <td>0</td>\n",
       "      <td>http://www.wikidata.org/entity/Q6386554</td>\n",
       "    </tr>\n",
       "    <tr>\n",
       "      <th>1</th>\n",
       "      <td>IUPOCN5C</td>\n",
       "      <td>2</td>\n",
       "      <td>0</td>\n",
       "      <td>http://www.wikidata.org/entity/Q6500028</td>\n",
       "    </tr>\n",
       "    <tr>\n",
       "      <th>2</th>\n",
       "      <td>BQC7DZZR</td>\n",
       "      <td>1</td>\n",
       "      <td>0</td>\n",
       "      <td>http://www.wikidata.org/entity/Q4975221</td>\n",
       "    </tr>\n",
       "    <tr>\n",
       "      <th>3</th>\n",
       "      <td>BQC7DZZR</td>\n",
       "      <td>2</td>\n",
       "      <td>0</td>\n",
       "      <td>http://www.wikidata.org/entity/Q7996163</td>\n",
       "    </tr>\n",
       "    <tr>\n",
       "      <th>4</th>\n",
       "      <td>BQC7DZZR</td>\n",
       "      <td>3</td>\n",
       "      <td>0</td>\n",
       "      <td>http://www.wikidata.org/entity/Q6858435</td>\n",
       "    </tr>\n",
       "    <tr>\n",
       "      <th>...</th>\n",
       "      <td>...</td>\n",
       "      <td>...</td>\n",
       "      <td>...</td>\n",
       "      <td>...</td>\n",
       "    </tr>\n",
       "    <tr>\n",
       "      <th>4242</th>\n",
       "      <td>AMTEIF56</td>\n",
       "      <td>2</td>\n",
       "      <td>1</td>\n",
       "      <td>http://www.wikidata.org/entity/Q15981425</td>\n",
       "    </tr>\n",
       "    <tr>\n",
       "      <th>4243</th>\n",
       "      <td>AMTEIF56</td>\n",
       "      <td>3</td>\n",
       "      <td>0</td>\n",
       "      <td>http://www.wikidata.org/entity/Q12716967</td>\n",
       "    </tr>\n",
       "    <tr>\n",
       "      <th>4244</th>\n",
       "      <td>AMTEIF56</td>\n",
       "      <td>3</td>\n",
       "      <td>1</td>\n",
       "      <td>http://www.wikidata.org/entity/Q15973993</td>\n",
       "    </tr>\n",
       "    <tr>\n",
       "      <th>4245</th>\n",
       "      <td>AMTEIF56</td>\n",
       "      <td>4</td>\n",
       "      <td>0</td>\n",
       "      <td>http://www.wikidata.org/entity/Q6923695</td>\n",
       "    </tr>\n",
       "    <tr>\n",
       "      <th>4246</th>\n",
       "      <td>AMTEIF56</td>\n",
       "      <td>4</td>\n",
       "      <td>1</td>\n",
       "      <td>http://www.wikidata.org/entity/Q15971248</td>\n",
       "    </tr>\n",
       "  </tbody>\n",
       "</table>\n",
       "<p>4247 rows × 4 columns</p>\n",
       "</div>"
      ],
      "text/plain": [
       "             0  1  2                                         3\n",
       "0     IUPOCN5C  1  0   http://www.wikidata.org/entity/Q6386554\n",
       "1     IUPOCN5C  2  0   http://www.wikidata.org/entity/Q6500028\n",
       "2     BQC7DZZR  1  0   http://www.wikidata.org/entity/Q4975221\n",
       "3     BQC7DZZR  2  0   http://www.wikidata.org/entity/Q7996163\n",
       "4     BQC7DZZR  3  0   http://www.wikidata.org/entity/Q6858435\n",
       "...        ... .. ..                                       ...\n",
       "4242  AMTEIF56  2  1  http://www.wikidata.org/entity/Q15981425\n",
       "4243  AMTEIF56  3  0  http://www.wikidata.org/entity/Q12716967\n",
       "4244  AMTEIF56  3  1  http://www.wikidata.org/entity/Q15973993\n",
       "4245  AMTEIF56  4  0   http://www.wikidata.org/entity/Q6923695\n",
       "4246  AMTEIF56  4  1  http://www.wikidata.org/entity/Q15971248\n",
       "\n",
       "[4247 rows x 4 columns]"
      ]
     },
     "execution_count": 388,
     "metadata": {},
     "output_type": "execute_result"
    }
   ],
   "source": [
    "cea_targets"
   ]
  },
  {
   "cell_type": "code",
   "execution_count": 389,
   "metadata": {},
   "outputs": [
    {
     "name": "stdout",
     "output_type": "stream",
     "text": [
      "{'en': 2523, 'fr': 167, 'da': 36, 'es': 216, 'de': 433, 'et': 52, 'tr': 10, 'ca': 29, 'pt': 65, 'sq': 3, 'pl': 62, 'id': 50, 'sv': 57, 'hu': 14, 'fi': 53, 'nl': 80, 'mt': 12, 'lt': 36, 'it': 99, 'xh': 5, 'tl': 8, 'gl': 13, 'sl': 32, 'br': 2, 'vo': 2, 'vi': 6, 'cs': 34, 'ar': 1, 'ga': 1, 'rw': 5, 'mg': 3, 'hr': 5, 'lv': 5, 'la': 8, 'ro': 31, 'no': 9, 'ms': 5, 'sk': 24, 'ht': 3, 'eu': 17, 'qu': 1, 'sw': 2, 'ta': 1, 'nn': 2, 'wa': 1, 'eo': 5, 'zh': 3, 'nb': 3, 'af': 3, 'is': 2, 'oc': 1, 'cy': 5, 'ja': 1, 'az': 1}\n"
     ]
    },
    {
     "data": {
      "image/png": "[encoded data removed]",
      "text/plain": [
       "<Figure size 1080x648 with 1 Axes>"
      ]
     },
     "metadata": {
      "needs_background": "light"
     },
     "output_type": "display_data"
    }
   ],
   "source": [
    "# See the languages of the CEA cells\n",
    "languages_count = {}\n",
    "\n",
    "for index, row in cea_targets.iterrows():\n",
    "    df = dfs[row[0] + '.csv']\n",
    "    value = df.iloc[row[1] - 1, row[2]]\n",
    "    detected_language, _ = langid.classify(value)\n",
    "    if detected_language in languages_count.keys():\n",
    "        languages_count[detected_language] = languages_count[detected_language] + 1\n",
    "    else:\n",
    "        languages_count[detected_language] = 1\n",
    "\n",
    "print(languages_count)\n",
    "\n",
    "# Transform each value into a list\n",
    "languages_count = {key: [value] for key, value in languages_count.items()}\n",
    "    \n",
    "languages_count = pd.DataFrame(languages_count)\n",
    "\n",
    "# Transpose the DataFrame\n",
    "df_transposed = languages_count.transpose()\n",
    "\n",
    "# Reset the index and rename the columns\n",
    "df_transposed = df_transposed.reset_index()\n",
    "df_transposed.columns = ['Language Code', 'Count']\n",
    "\n",
    "# Plotting the bar plot using Seaborn\n",
    "plt.figure(figsize=(15, 9))\n",
    "sns.barplot(data=df_transposed, x='Language Code', y='Count')\n",
    "\n",
    "# Adding labels and title\n",
    "plt.xlabel('Language Code')\n",
    "plt.ylabel('Count of Cells')\n",
    "plt.title('Language Frequency')\n",
    "\n",
    "# Annotating the bar plot with exact numbers\n",
    "for index, row in df_transposed.iterrows():\n",
    "    plt.text(index, row['Count'], str(row['Count']), ha='center', va='bottom')\n",
    "\n",
    "\n",
    "# Display the plot\n",
    "plt.show()"
   ]
  },
  {
   "cell_type": "code",
   "execution_count": 390,
   "metadata": {},
   "outputs": [
    {
     "name": "stdout",
     "output_type": "stream",
     "text": [
      "Total number of cells with non-english content is: 1724\n",
      "Percentage of cells with non-english content is: 40.593360018836826%\n"
     ]
    }
   ],
   "source": [
    "languages_count.columns\n",
    "non_english_count = 0\n",
    "for col in languages_count.columns:\n",
    "    if col != 'en':\n",
    "        non_english_count = non_english_count + languages_count[col]\n",
    "print(f\"Total number of cells with non-english content is: {non_english_count.values[0]}\")\n",
    "print(f\"Percentage of cells with non-english content is: {(non_english_count.values[0]/cea_gt.shape[0]) * 100}%\")\n"
   ]
  },
  {
   "cell_type": "code",
   "execution_count": 391,
   "metadata": {},
   "outputs": [
    {
     "name": "stdout",
     "output_type": "stream",
     "text": [
      "Requirement already satisfied: langid in c:\\users\\lenovo\\anaconda3\\lib\\site-packages (1.1.6)\n",
      "Requirement already satisfied: numpy in c:\\users\\lenovo\\anaconda3\\lib\\site-packages (from langid) (1.17.4)\n"
     ]
    }
   ],
   "source": [
    "!pip install langid"
   ]
  },
  {
   "cell_type": "code",
   "execution_count": 392,
   "metadata": {},
   "outputs": [],
   "source": [
    "# Example of cells with non-english content\n",
    "non_english_values = {}\n",
    "for index, row in cea_targets.iterrows():\n",
    "    df = dfs[row[0] + '.csv']\n",
    "    value = df.iloc[row[1] - 1, row[2]]\n",
    "    detected_language, _ = langid.classify(value)\n",
    "    if detected_language != \"en\":\n",
    "        if detected_language not in non_english_values.keys():\n",
    "            non_english_values[detected_language] = [value]\n",
    "        else:\n",
    "            non_english_values[detected_language].append(value)"
   ]
  },
  {
   "cell_type": "code",
   "execution_count": 393,
   "metadata": {},
   "outputs": [
    {
     "name": "stdout",
     "output_type": "stream",
     "text": [
      "Examples of French cells:\n",
      "['Brookville Township', 'Greenville Township', 'Princeton Township', 'Valcartier A', 'Valcartier A', 'Orleans County', 'Nassau County', 'Wampsville', 'Le Haut-Saint-Laurent', 'Nassau County']\n",
      "Examples of German cells:\n",
      "['Warren Township', 'Warren Township', 'Mas Blau', 'Jangsan Station', 'Xiaonanmen Station', 'Pavones', 'Bilster Berg', 'Steuben County', 'Riverhead', 'Norwich']\n",
      "Examples of Spanish cells:\n",
      "['Ohio Township', 'Ohio Township', 'Ohio Township', 'Florida Township', 'La Belle', 'Beacon Hill', 'San Juan de Dios', 'Oneida County', 'Ontario County', 'Ontario County']\n",
      "Examples of Chinesse cells:\n",
      "['Țomcutu Mic', 'Cuypershuis', 'Cuypershuis']\n",
      "Examples of Japanese cells:\n",
      "['UTC−05:00']\n"
     ]
    }
   ],
   "source": [
    "print(\"Examples of French cells:\")\n",
    "print(non_english_values['fr'][:10])\n",
    "print(\"Examples of German cells:\")\n",
    "print(non_english_values['de'][:10])\n",
    "print(\"Examples of Spanish cells:\")\n",
    "print(non_english_values['es'][:10])\n",
    "print(\"Examples of Chinesse cells:\")\n",
    "print(non_english_values['zh'][:10])\n",
    "print(\"Examples of Japanese cells:\")\n",
    "print(non_english_values['ja'][:10])"
   ]
  },
  {
   "cell_type": "code",
   "execution_count": null,
   "metadata": {},
   "outputs": [],
   "source": []
  }
 ],
 "metadata": {
  "kernelspec": {
   "display_name": "Python 3",
   "language": "python",
   "name": "python3"
  },
  "language_info": {
   "codemirror_mode": {
    "name": "ipython",
    "version": 3
   },
   "file_extension": ".py",
   "mimetype": "text/x-python",
   "name": "python",
   "nbconvert_exporter": "python",
   "pygments_lexer": "ipython3",
   "version": "3.6.8"
  }
 },
 "nbformat": 4,
 "nbformat_minor": 2
}
